{
  "nbformat": 4,
  "nbformat_minor": 0,
  "metadata": {
    "colab": {
      "provenance": []
    },
    "kernelspec": {
      "name": "python3",
      "display_name": "Python 3"
    },
    "language_info": {
      "name": "python"
    }
  },
  "cells": [
    {
      "cell_type": "markdown",
      "source": [
        "\n",
        "\n",
        "```\n",
        "+-------------------+\n",
        "|  UAV Fleet        |\n",
        "|                   |\n",
        "|  +-------------+  |\n",
        "|  |  Drone 1    |  |\n",
        "|  | +---------+ |  |\n",
        "|  | | LIDAR   | |  |\n",
        "|  | | Color   | |  |\n",
        "|  | | Sensor  | |  |\n",
        "|  | +---------+ |  |\n",
        "|  +-------------+  |\n",
        "|                   |\n",
        "|  +-------------+  |\n",
        "|  |  Drone 2    |  |\n",
        "|  | +---------+ |  |\n",
        "|  | | LIDAR   | |  |\n",
        "|  | | Color   | |  |\n",
        "|  | | Sensor  | |  |\n",
        "|  | +---------+ |  |\n",
        "|  +-------------+  |\n",
        "|                   |\n",
        "|  +-------------+  |\n",
        "|  |  Drone 3    |  |\n",
        "|  | +---------+ |  |\n",
        "|  | | LIDAR   | |  |\n",
        "|  | | Color   | |  |\n",
        "|  | | Sensor  | |  |\n",
        "|  | +---------+ |  |\n",
        "|  +-------------+  |\n",
        "|                   |\n",
        "|  +-------------+  |\n",
        "|  |  Controller |  |\n",
        "|  +-------------+  |\n",
        "|                   |\n",
        "+-------------------+\n",
        "\n",
        "```\n",
        "\n",
        "\n",
        "\n"
      ],
      "metadata": {
        "id": "LaGGyCbmufYm"
      }
    }
  ]
}